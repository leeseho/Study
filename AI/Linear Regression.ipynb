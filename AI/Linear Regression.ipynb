{
 "cells": [
  {
   "cell_type": "markdown",
   "metadata": {},
   "source": [
    "# Linear Regression with Tensorflow 2.0\n",
    "## Data 전처리"
   ]
  },
  {
   "cell_type": "code",
   "execution_count": 37,
   "metadata": {},
   "outputs": [
    {
     "name": "stdout",
     "output_type": "stream",
     "text": [
      "[7. 0. 3. 6. 2. 1. 9.] [20. 10. 15. 18. 14. 12. 25.]\n"
     ]
    },
    {
     "data": {
      "text/plain": [
       "<matplotlib.axes._subplots.AxesSubplot at 0x1f952149048>"
      ]
     },
     "execution_count": 37,
     "metadata": {},
     "output_type": "execute_result"
    },
    {
     "data": {
      "image/png": "[encoded data removed]",
      "text/plain": [
       "<Figure size 432x288 with 1 Axes>"
      ]
     },
     "metadata": {
      "needs_background": "light"
     },
     "output_type": "display_data"
    }
   ],
   "source": [
    "# https://towardsdatascience.com/get-started-with-tensorflow-2-0-and-linear-regression-29b5dbd65977의 자료를 따라하며 정리한 것임.\n",
    "\n",
    "#Linear Regression \n",
    "import tensorflow as tf\n",
    "import numpy as np\n",
    "import pandas as pd\n",
    "from sklearn.model_selection import train_test_split\n",
    "import matplotlib\n",
    "import matplotlib.pyplot as plt\n",
    "%matplotlib inline\n",
    "\n",
    "# 임의로 데이터 생성 shape:(10, 2).. 임의 데이터\n",
    "input_data = [[0, 10],\n",
    "             [1, 12],\n",
    "             [2, 14],\n",
    "             [3, 15],\n",
    "             [4, 15],\n",
    "             [5, 16],\n",
    "             [6, 18],\n",
    "             [7, 20],\n",
    "             [8, 21],\n",
    "             [9, 25]]\n",
    "\n",
    "pd_data = pd.DataFrame(input_data, columns=['Days', 'Intake'])\n",
    "#print(pd_data)\n",
    "\n",
    "train_X, test_X, train_Y, test_Y = train_test_split(pd_data['Days'],\n",
    "                                                    pd_data['Intake'],\n",
    "                                                    test_size = 0.3)\n",
    "# training에 사용할 data\n",
    "X = tf.constant(train_X, dtype=tf.float32)\n",
    "Y = tf.constant(train_Y, dtype=tf.float32)\n",
    "\n",
    "# test에 사용할 data\n",
    "t_X = tf.constant(test_X, dtype=tf.float32)\n",
    "t_Y = tf.constant(test_Y, dtype=tf.float32)\n",
    "\n",
    "print(X.numpy(), Y.numpy())\n",
    "\n",
    "pd_data['Intake'].plot() # 판다스 데이터프레임에서 바로 plot 가능.."
   ]
  },
  {
   "cell_type": "markdown",
   "metadata": {},
   "source": [
    "# Hypothesis , MSE, MSE' 정의"
   ]
  },
  {
   "cell_type": "code",
   "execution_count": 38,
   "metadata": {},
   "outputs": [],
   "source": [
    "def mean_squared_error (Y, y_pred):  # 그래프에 출력할때 사용. 학습시에는 MSE`(MSE_deriv)을 사용함.\n",
    "    return tf.reduce_mean(tf.square(y_pred - Y)) \n",
    "\n",
    "def mean_squared_error_deriv (Y, y_pred): # 학습에 사용되는 함수\n",
    "    return tf.reshape(tf.reduce_mean(2*(y_pred- Y)), [1,1])  # 2*(y_pred-Y) : (y_pred - Y)^2의 미분형태\n",
    "#tf.reshape는 해당 텐서를 옵션으로준 shape 모양으로 바꾸어줌.\n",
    "\n",
    "def h (X, weights, bias):\n",
    "    return tf.tensordot(X, weights, axes=1) + bias # tensordot : dot product? : matmul과 동일?"
   ]
  },
  {
   "cell_type": "markdown",
   "metadata": {},
   "source": [
    "# Training Parameter 지정 및 학습"
   ]
  },
  {
   "cell_type": "code",
   "execution_count": 79,
   "metadata": {},
   "outputs": [
    {
     "name": "stdout",
     "output_type": "stream",
     "text": [

     ]
    },
    {
     "name": "stdout",
     "output_type": "stream",
     "text": [
      "Loss is 119.1183853149414\n",
      "Loss is 119.17803192138672\n",
      "Loss is 119.2381591796875\n",
      "Loss is 119.2988052368164\n",
      "Loss is 119.35993194580078\n",
      "Loss is 119.42153930664062\n",
      "Loss is 119.48363494873047\n",
      "Loss is 119.54620361328125\n",
      "Loss is 119.60924530029297\n",
      "Loss is 119.6727294921875\n",
      "Loss is 119.73668670654297\n",
      "Loss is 119.80107879638672\n",
      "Loss is 119.86590576171875\n",
      "Loss is 119.9311752319336\n",
      "Loss is 119.99687957763672\n",
      "Loss is 120.06299591064453\n",
      "Loss is 120.12953186035156\n",
      "Loss is 120.19647979736328\n",
      "Loss is 120.26383972167969\n",
      "Loss is 120.33159637451172\n",
      "Loss is 120.39974212646484\n",
      "Loss is 120.4682846069336\n",
      "Loss is 120.53720092773438\n",
      "Loss is 120.60651397705078\n",
      "Loss is 120.67619323730469\n",
      "Loss is 120.74623107910156\n",
      "Loss is 120.81664276123047\n",
      "Loss is 120.88740539550781\n",
      "Loss is 120.9585189819336\n",
      "Loss is 121.02998352050781\n",
      "Loss is 121.10179138183594\n",
      "Loss is 121.17391967773438\n",
      "Loss is 121.24638366699219\n",
      "Loss is 121.31918334960938\n",
      "Loss is 121.3923110961914\n",
      "Loss is 121.46575164794922\n",
      "Loss is 121.53948211669922\n",
      "Loss is 121.61353302001953\n",
      "Loss is 121.68788146972656\n",
      "Loss is 121.76251220703125\n",
      "Loss is 121.83745574951172\n",
      "Loss is 121.91268920898438\n",
      "Loss is 121.98818969726562\n",
      "Loss is 122.06397247314453\n",
      "Loss is 122.14004516601562\n",
      "Loss is 122.21637725830078\n",
      "Loss is 122.29296112060547\n",
      "Loss is 122.36981964111328\n",
      "Loss is 122.44690704345703\n",
      "Loss is 122.52428436279297\n",
      "Loss is 122.60189056396484\n",
      "Loss is 122.67974853515625\n",
      "Loss is 122.7578125\n",
      "Loss is 122.83614349365234\n",
      "Loss is 122.91470336914062\n",
      "Loss is 122.99346160888672\n",
      "Loss is 123.07246398925781\n",
      "Loss is 123.15168762207031\n"
     ]
    },
    {
     "data": {
      "image/png": "[encoded data removed]",
      "text/plain": [
       "<Figure size 432x288 with 1 Axes>"
      ]
     },
     "metadata": {
      "needs_background": "light"
     },
     "output_type": "display_data"
    }
   ],
   "source": [
    "num_epochs = 400\n",
    "num_samples = X.shape[0]  # 훈련 dataset의 데이터 개수를 뜻함 : 위에서 70퍼센트로 지정했으므로 7개임\n",
    "batch_size = 7 # 훈련데이터셋에서 한번에 얼마나 학습할지(batch) size 지정\n",
    "# 굳이 전체 데이터를 batch로 나누어서 학습하는 이유? \n",
    "# 메모리 용량의 한계때문에, 모든 훈련셋을 메모리에 다 불러올 수 없는 경우가 많기 때문임.\n",
    "\n",
    "learning_rate = 0.0001\n",
    "\n",
    "# tf.data.Dataset 객체는 데이터와 batch를 효율적으로 저장한다.\n",
    "dataset = tf.data.Dataset.from_tensor_slices(( X , Y )) \n",
    "# from_tensor_slices : Creates a Dataset whose elements are slices of the given tensors\n",
    "# X와 Y의 slice(일부)를 반환한다는 것 같음.\n",
    "dataset = dataset.shuffle( 500 ).repeat( num_epochs ).batch( batch_size ) # shuffle?\n",
    "iterator = dataset.__iter__() # iterator, dataset에서 batch를 가리키는 반복자\n",
    "\n",
    "\n",
    "\n",
    "num_features = 1 # 속성의 수가 2이상인 경우 X.shape[1]로 해야 맞지만, 내가 만든데이터처럼 1개일때는 1로 인식이 안되므로.. 1로 직접 넣어주었음..\n",
    "weights = tf.random.normal((num_features, 1)) # 가설의 W\n",
    "bias = 0 # 가설의 b\n",
    "\n",
    "# 그래프 출력용..\n",
    "epochs_plot = list() # 그래프 x축\n",
    "loss_plot = list() #그래프 y축\n",
    "\n",
    "for i in range(num_epochs) : # training set을 총 반복할 횟수 : num_epochs\n",
    "    epoch_loss = list()\n",
    "    for b in range(int(num_samples/batch_size)): # training set(num_samples개)을 batch size만큼 나누어서 학습하므로..\n",
    "        x_batch, y_batch = iterator.get_next()\n",
    "        x_batch = tf.reshape(x_batch, shape=(7,1)) # 1차원 행렬(즉, (1,7))로 인식해서 계산이 안되므로, shape를 (7,1)로 변경 필수\n",
    "        \n",
    "        output = h(x_batch, weights, bias)\n",
    "        #print(output) # output은 batch에 대한 예측값이 저장됨.\n",
    "        loss = epoch_loss.append(mean_squared_error(y_batch, output).numpy())\n",
    "        \n",
    "        dJ_dH = mean_squared_error_deriv( y_batch , output) # y_batch(정답)과 예측값(output)으로 MSE`(prime)을 구한다\n",
    "        dH_dW = x_batch\n",
    "        dJ_dW = tf.reduce_mean( dJ_dH * dH_dW ) # round Loss/ round W = (round Loss / round h) * (round h / round W)\n",
    "        dJ_dB = tf.reduce_mean( dJ_dH )\n",
    "        \n",
    "        \n",
    "        # W와 b를 update\n",
    "        weights -= ( learning_rate * dJ_dW )\n",
    "        bias -= ( learning_rate * dJ_dB ) \n",
    "        \n",
    "        \n",
    "    loss = np.array( epoch_loss ).mean()\n",
    "    epochs_plot.append( i + 1 )\n",
    "    loss_plot.append( loss ) \n",
    "    \n",
    "    print( 'Loss is {}'.format( loss ) ) \n",
    "\n",
    "plt.plot( epochs_plot , loss_plot ) \n",
    "plt.show()"
   ]
  },
  {
   "cell_type": "markdown",
   "metadata": {},
   "source": [
    "# Test Data에 적용해보기"
   ]
  },
  {
   "cell_type": "code",
   "execution_count": 80,
   "metadata": {},
   "outputs": [
    {
     "name": "stdout",
     "output_type": "stream",
     "text": [
      "tf.Tensor(\n",
      "[[15.614304]\n",
      " [24.60669 ]\n",
      " [12.616842]], shape=(3, 1), dtype=float32)\n",
      "tf.Tensor([16. 21. 15.], shape=(3,), dtype=float32)\n",
      "\n",
      "Regression Equation : Y = X 2.9974618  +  0.62699515\n"
     ]
    }
   ],
   "source": [
    "t_X = tf.reshape(t_X, [t_X.shape[0],1]) # (3,1)로 변경\n",
    "test_out = h(t_X, weights, bias)\n",
    "print(test_out)\n",
    "label = t_Y\n",
    "print(label)\n",
    "\n",
    "print(\"\\nRegression Equation : Y = X\", weights.numpy()[0,0], \" + \", bias.numpy()) # tensor를 numpy로 변환!"
   ]
  },
  {
   "cell_type": "markdown",
   "metadata": {},
   "source": [
    "# 그래프 출력"
   ]
  },
  {
   "cell_type": "code",
   "execution_count": 81,
   "metadata": {},
   "outputs": [
    {
     "name": "stdout",
     "output_type": "stream",
     "text": [
      "0     0.626995\n",
      "1     3.624457\n",
      "2     6.621919\n",
      "3     9.619381\n",
      "4    12.616842\n",
      "5    15.614304\n",
      "6    18.611766\n",
      "7    21.609228\n",
      "8    24.606690\n",
      "9    27.604151\n",
      "Name: Days, dtype: float64\n"
     ]
    },
    {
     "data": {
      "text/plain": [
       "[<matplotlib.lines.Line2D at 0x1f95399e508>]"
      ]
     },
     "execution_count": 81,
     "metadata": {},
     "output_type": "execute_result"
    },
    {
     "data": {
      "image/png": "[encoded data removed]",
      "text/plain": [
       "<Figure size 432x288 with 1 Axes>"
      ]
     },
     "metadata": {
      "needs_background": "light"
     },
     "output_type": "display_data"
    }
   ],
   "source": [
    "plt.scatter(pd_data['Days'], pd_data['Intake'])\n",
    "\n",
    "#직선 방정식\n",
    "g_y = weights.numpy()[0,0]*pd_data['Days'] + bias.numpy()\n",
    "print(g_y)\n",
    "plt.plot(pd_data['Days'], g_y)"
   ]
  },
  {
   "cell_type": "markdown",
   "metadata": {},
   "source": [
    "# 참고\n",
    " tf.GradientTape()는 미분 값을 구해주는 메소드임. 다른 Cost function의 학습을 위해서 공부 필요"
   ]
  },
  {
   "cell_type": "code",
   "execution_count": null,
   "metadata": {},
   "outputs": [],
   "source": []
  }
 ],
 "metadata": {
  "kernelspec": {
   "display_name": "Python 3",
   "language": "python",
   "name": "python3"
  },
  "language_info": {
   "codemirror_mode": {
    "name": "ipython",
    "version": 3
   },
   "file_extension": ".py",
   "mimetype": "text/x-python",
   "name": "python",
   "nbconvert_exporter": "python",
   "pygments_lexer": "ipython3",
   "version": "3.7.5"
  }
 },
 "nbformat": 4,
 "nbformat_minor": 2
}
