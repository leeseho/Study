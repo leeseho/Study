{
 "cells": [
  {
   "cell_type": "code",
   "execution_count": 18,
   "metadata": {},
   "outputs": [],
   "source": [
    "import boto3  # AWS SDK\n",
    "import cv2    # OpenCV"
   ]
  },
  {
   "cell_type": "code",
   "execution_count": 19,
   "metadata": {},
   "outputs": [],
   "source": [
    "def detect_labels_local_file(photo):\n",
    "    \n",
    "    client=boto3.client('rekognition') # Rekognition 서비스의 client를 생성함\n",
    "    \n",
    "    with open(photo, 'rb') as image:\n",
    "        response = client.detect_labels(Image={'Bytes': image.read()})\n",
    "        \n",
    "    #print('Check response type/shape: ', response, '\\n') # response가 어떤 형식으로 들어오는지 check\n",
    "        \n",
    "        \n",
    "        \n",
    "        \n",
    "    print('Detected labels in ' + photo)\n",
    "    for label in response['Labels']: \n",
    "        print (label['Name'] + ' : ' + str(label['Confidence'])) # label은 List의 각 원소이고, 딕셔너리형임.\n",
    "        \n",
    "        \n",
    "    return len(response['Labels']), response # label의 개수 리턴?\n",
    "\n",
    "def isExistAndDraw(label, label_name):\n",
    "    if (label['Name'] == label_name) : # Bus로 Label된 경우\n",
    "        for instance in label['Instances'] : # Objects \n",
    "            left = int(img_width * instance['BoundingBox']['Left'])\n",
    "            top = int(img_height * instance['BoundingBox']['Top'])\n",
    "            width = int(img_width * instance['BoundingBox']['Width'])\n",
    "            height = int(img_height * instance['BoundingBox']['Height'])\n",
    "            \n",
    "            print(left, top, width, height) # 개체 위치\n",
    "            \n",
    "            # Draw a Rectangle for this instance.. (이미지 데이터, 왼쪽위, 오른쪽 아래, 선색상, 선굵기)\n",
    "            cv2.rectangle(img, (left, top), (left + width, top + height), (0,0,255), thickness = 3)\n",
    "            cv2.imshow(label_name, img)\n",
    "            cv2.waitKey(0)\n",
    "            cv2.destroyAllWindows()    \n",
    "\n",
    "            \n",
    "            \n",
    "def AnalysisResponse(response, obj_list) :\n",
    "    for label in response['Labels']:# Label\n",
    "        for obj in obj_list:\n",
    "            isExistAndDraw(label, obj)\n",
    "\n"
   ]
  },
  {
   "cell_type": "markdown",
   "metadata": {},
   "source": [
    "# Warning : AWS 호출"
   ]
  },
  {
   "cell_type": "code",
   "execution_count": 20,
   "metadata": {
    "scrolled": true
   },
   "outputs": [
    {
     "name": "stdout",
     "output_type": "stream",
     "text": [
      "Detected labels in boars.jpg\n",
      "Pig : 99.92464447021484\n",
      "Mammal : 99.92464447021484\n",
      "Animal : 99.92464447021484\n",
      "Hog : 99.66363525390625\n",
      "Boar : 98.78299713134766\n",
      "Wildlife : 93.5898666381836\n",
      "Bear : 93.5898666381836\n",
      "Elephant : 78.13543701171875\n",
      "Labels detected : 8\n"
     ]
    }
   ],
   "source": [
    "label_count, res_boars = detect_labels_local_file(\"boars.jpg\")\n",
    "print(\"Labels detected : \" + str(label_count))\n"
   ]
  },
  {
   "cell_type": "code",
   "execution_count": 21,
   "metadata": {
    "scrolled": true
   },
   "outputs": [
    {
     "name": "stdout",
     "output_type": "stream",
     "text": [
      "{'Labels': [{'Name': 'Pig', 'Confidence': 99.92464447021484, 'Instances': [{'BoundingBox': {'Width': 0.3521674573421478, 'Height': 0.8091012835502625, 'Left': 0.5674415826797485, 'Top': 0.033277932554483414}, 'Confidence': 99.92464447021484}], 'Parents': [{'Name': 'Animal'}, {'Name': 'Mammal'}]}, {'Name': 'Mammal', 'Confidence': 99.92464447021484, 'Instances': [], 'Parents': [{'Name': 'Animal'}]}, {'Name': 'Animal', 'Confidence': 99.92464447021484, 'Instances': [], 'Parents': []}, {'Name': 'Hog', 'Confidence': 99.66363525390625, 'Instances': [], 'Parents': [{'Name': 'Pig'}, {'Name': 'Animal'}, {'Name': 'Mammal'}]}, {'Name': 'Boar', 'Confidence': 98.78299713134766, 'Instances': [], 'Parents': [{'Name': 'Pig'}, {'Name': 'Hog'}, {'Name': 'Animal'}, {'Name': 'Mammal'}]}, {'Name': 'Wildlife', 'Confidence': 93.5898666381836, 'Instances': [], 'Parents': [{'Name': 'Animal'}]}, {'Name': 'Bear', 'Confidence': 93.5898666381836, 'Instances': [{'BoundingBox': {'Width': 0.2247854620218277, 'Height': 0.19606803357601166, 'Left': 0.13816897571086884, 'Top': 0.4275693893432617}, 'Confidence': 93.5898666381836}, {'BoundingBox': {'Width': 0.10773313045501709, 'Height': 0.1682184636592865, 'Left': 0.39184918999671936, 'Top': 0.46029624342918396}, 'Confidence': 80.6814193725586}], 'Parents': [{'Name': 'Wildlife'}, {'Name': 'Animal'}, {'Name': 'Mammal'}]}, {'Name': 'Elephant', 'Confidence': 78.13543701171875, 'Instances': [{'BoundingBox': {'Width': 0.07010752707719803, 'Height': 0.08100135624408722, 'Left': 0.5014558434486389, 'Top': 0.4951382875442505}, 'Confidence': 78.13543701171875}], 'Parents': [{'Name': 'Wildlife'}, {'Name': 'Animal'}, {'Name': 'Mammal'}]}], 'LabelModelVersion': '2.0', 'ResponseMetadata': {'RequestId': '08814a73-6f75-42a9-9905-0b754931dbed', 'HTTPStatusCode': 200, 'HTTPHeaders': {'content-type': 'application/x-amz-json-1.1', 'date': 'Wed, 22 Jan 2020 01:42:29 GMT', 'x-amzn-requestid': '08814a73-6f75-42a9-9905-0b754931dbed', 'content-length': '1564', 'connection': 'keep-alive'}, 'RetryAttempts': 0}}\n"
     ]
    }
   ],
   "source": [
    "res_street = {'Labels': [{'Name': 'Automobile', 'Confidence': 99.87513732910156, 'Instances': [], 'Parents': [{'Name': 'Vehicle'}, {'Name': 'Transportation'}]}, {'Name': 'Vehicle', 'Confidence': 99.87513732910156, 'Instances': [], 'Parents': [{'Name': 'Transportation'}]}, {'Name': 'Car', 'Confidence': 99.87513732910156, 'Instances': [{'BoundingBox': {'Width': 0.13757939636707306, 'Height': 0.19105815887451172, 'Left': 0.2646893560886383, 'Top': 0.3507574796676636}, 'Confidence': 99.87513732910156}], 'Parents': [{'Name': 'Vehicle'}, {'Name': 'Transportation'}]}, {'Name': 'Transportation', 'Confidence': 99.87513732910156, 'Instances': [], 'Parents': []}, {'Name': 'Human', 'Confidence': 99.80064392089844, 'Instances': [], 'Parents': []}, {'Name': 'Person', 'Confidence': 99.80064392089844, 'Instances': [{'BoundingBox': {'Width': 0.07471028715372086, 'Height': 0.4281952381134033, 'Left': 0.6179789304733276, 'Top': 0.3516545593738556}, 'Confidence': 99.80064392089844}, {'BoundingBox': {'Width': 0.03460748493671417, 'Height': 0.2252141535282135, 'Left': 0.10027150064706802, 'Top': 0.2921742796897888}, 'Confidence': 99.6645736694336}, {'BoundingBox': {'Width': 0.028441110625863075, 'Height': 0.20018687844276428, 'Left': 0.17760072648525238, 'Top': 0.29638174176216125}, 'Confidence': 99.29949188232422}, {'BoundingBox': {'Width': 0.10174866020679474, 'Height': 0.436393141746521, 'Left': 0.6663427948951721, 'Top': 0.37225067615509033}, 'Confidence': 99.25483703613281}, {'BoundingBox': {'Width': 0.03695414215326309, 'Height': 0.18607701361179352, 'Left': 0.2365000694990158, 'Top': 0.3398158550262451}, 'Confidence': 98.84535217285156}, {'BoundingBox': {'Width': 0.027922675013542175, 'Height': 0.11660938709974289, 'Left': 0.032728832215070724, 'Top': 0.3512533903121948}, 'Confidence': 92.9239730834961}, {'BoundingBox': {'Width': 0.019975382834672928, 'Height': 0.05524568259716034, 'Left': 0.7366624474525452, 'Top': 0.1931615024805069}, 'Confidence': 91.68370819091797}, {'BoundingBox': {'Width': 0.03112391196191311, 'Height': 0.17352770268917084, 'Left': 0.21886950731277466, 'Top': 0.330077588558197}, 'Confidence': 91.62397766113281}, {'BoundingBox': {'Width': 0.0812976062297821, 'Height': 0.4254918694496155, 'Left': 0.640822172164917, 'Top': 0.367260605096817}, 'Confidence': 86.38695526123047}, {'BoundingBox': {'Width': 0.030679626390337944, 'Height': 0.0565391406416893, 'Left': 0.5482131242752075, 'Top': 0.25949543714523315}, 'Confidence': 69.42679595947266}], 'Parents': []}, {'Name': 'Bus', 'Confidence': 99.73744201660156, 'Instances': [{'BoundingBox': {'Width': 0.27550047636032104, 'Height': 0.3700307607650757, 'Left': 0.33609721064567566, 'Top': 0.14235340058803558}, 'Confidence': 99.73744201660156}, {'BoundingBox': {'Width': 0.3404987156391144, 'Height': 0.3406751751899719, 'Left': 0.6508468985557556, 'Top': 0.19053643941879272}, 'Confidence': 77.80830383300781}], 'Parents': [{'Name': 'Vehicle'}, {'Name': 'Transportation'}]}, {'Name': 'Truck', 'Confidence': 97.89936065673828, 'Instances': [{'BoundingBox': {'Width': 0.3322325050830841, 'Height': 0.3332902193069458, 'Left': 0.6615830063819885, 'Top': 0.18901880085468292}, 'Confidence': 97.89936065673828}], 'Parents': [{'Name': 'Vehicle'}, {'Name': 'Transportation'}]}, {'Name': 'Pedestrian', 'Confidence': 77.2703628540039, 'Instances': [], 'Parents': [{'Name': 'Person'}]}, {'Name': 'Road', 'Confidence': 70.23655700683594, 'Instances': [], 'Parents': []}, {'Name': 'Cab', 'Confidence': 58.79756546020508, 'Instances': [], 'Parents': [{'Name': 'Car'}, {'Name': 'Vehicle'}, {'Name': 'Transportation'}]}, {'Name': 'Taxi', 'Confidence': 58.79756546020508, 'Instances': [], 'Parents': [{'Name': 'Car'}, {'Name': 'Vehicle'}, {'Name': 'Transportation'}]}, {'Name': 'Footwear', 'Confidence': 57.527122497558594, 'Instances': [], 'Parents': [{'Name': 'Clothing'}]}, {'Name': 'Apparel', 'Confidence': 57.527122497558594, 'Instances': [], 'Parents': []}, {'Name': 'Shoe', 'Confidence': 57.527122497558594, 'Instances': [{'BoundingBox': {'Width': 0.03686126694083214, 'Height': 0.03066018782556057, 'Left': 0.7119321823120117, 'Top': 0.7804135680198669}, 'Confidence': 57.527122497558594}, {'BoundingBox': {'Width': 0.028429361060261726, 'Height': 0.03097253292798996, 'Left': 0.6668492555618286, 'Top': 0.7651261687278748}, 'Confidence': 56.050655364990234}], 'Parents': [{'Name': 'Footwear'}, {'Name': 'Clothing'}]}, {'Name': 'Clothing', 'Confidence': 57.527122497558594, 'Instances': [], 'Parents': []}], 'LabelModelVersion': '2.0', 'ResponseMetadata': {'RequestId': 'aa08c414-2168-4857-98d1-39edf2a31048', 'HTTPStatusCode': 200, 'HTTPHeaders': {'content-type': 'application/x-amz-json-1.1', 'date': 'Fri, 17 Jan 2020 04:05:14 GMT', 'x-amzn-requestid': 'aa08c414-2168-4857-98d1-39edf2a31048', 'content-length': '4181', 'connection': 'keep-alive'}, 'RetryAttempts': 0}}\n",
    "res_boar = {'Labels': [{'Name': 'Animal', 'Confidence': 99.8631591796875, 'Instances': [], 'Parents': []}, {'Name': 'Pig', 'Confidence': 99.8631591796875, 'Instances': [{'BoundingBox': {'Width': 0.541523814201355, 'Height': 0.3026270568370819, 'Left': 0.156558096408844, 'Top': 0.2962292432785034}, 'Confidence': 97.00251770019531}], 'Parents': [{'Name': 'Animal'}, {'Name': 'Mammal'}]}, {'Name': 'Mammal', 'Confidence': 99.8631591796875, 'Instances': [], 'Parents': [{'Name': 'Animal'}]}, {'Name': 'Hog', 'Confidence': 99.8631591796875, 'Instances': [], 'Parents': [{'Name': 'Animal'}, {'Name': 'Pig'}, {'Name': 'Mammal'}]}, {'Name': 'Boar', 'Confidence': 99.8520736694336, 'Instances': [], 'Parents': [{'Name': 'Animal'}, {'Name': 'Pig'}, {'Name': 'Mammal'}, {'Name': 'Hog'}]}], 'LabelModelVersion': '2.0', 'ResponseMetadata': {'RequestId': '8d334809-c81d-4b44-89c9-bafd380bf8a2', 'HTTPStatusCode': 200, 'HTTPHeaders': {'content-type': 'application/x-amz-json-1.1', 'date': 'Fri, 17 Jan 2020 05:21:47 GMT', 'x-amzn-requestid': '8d334809-c81d-4b44-89c9-bafd380bf8a2', 'content-length': '729', 'connection': 'keep-alive'}, 'RetryAttempts': 0}}\n",
    "res_boars = {'Labels': [{'Name': 'Pig', 'Confidence': 99.92464447021484, 'Instances': [{'BoundingBox': {'Width': 0.3521674573421478, 'Height': 0.8091012835502625, 'Left': 0.5674415826797485, 'Top': 0.033277932554483414}, 'Confidence': 99.92464447021484}], 'Parents': [{'Name': 'Animal'}, {'Name': 'Mammal'}]}, {'Name': 'Mammal', 'Confidence': 99.92464447021484, 'Instances': [], 'Parents': [{'Name': 'Animal'}]}, {'Name': 'Animal', 'Confidence': 99.92464447021484, 'Instances': [], 'Parents': []}, {'Name': 'Hog', 'Confidence': 99.66363525390625, 'Instances': [], 'Parents': [{'Name': 'Pig'}, {'Name': 'Animal'}, {'Name': 'Mammal'}]}, {'Name': 'Boar', 'Confidence': 98.78299713134766, 'Instances': [], 'Parents': [{'Name': 'Pig'}, {'Name': 'Hog'}, {'Name': 'Animal'}, {'Name': 'Mammal'}]}, {'Name': 'Wildlife', 'Confidence': 93.5898666381836, 'Instances': [], 'Parents': [{'Name': 'Animal'}]}, {'Name': 'Bear', 'Confidence': 93.5898666381836, 'Instances': [{'BoundingBox': {'Width': 0.2247854620218277, 'Height': 0.19606803357601166, 'Left': 0.13816897571086884, 'Top': 0.4275693893432617}, 'Confidence': 93.5898666381836}, {'BoundingBox': {'Width': 0.10773313045501709, 'Height': 0.1682184636592865, 'Left': 0.39184918999671936, 'Top': 0.46029624342918396}, 'Confidence': 80.6814193725586}], 'Parents': [{'Name': 'Wildlife'}, {'Name': 'Animal'}, {'Name': 'Mammal'}]}, {'Name': 'Elephant', 'Confidence': 78.13543701171875, 'Instances': [{'BoundingBox': {'Width': 0.07010752707719803, 'Height': 0.08100135624408722, 'Left': 0.5014558434486389, 'Top': 0.4951382875442505}, 'Confidence': 78.13543701171875}], 'Parents': [{'Name': 'Wildlife'}, {'Name': 'Animal'}, {'Name': 'Mammal'}]}], 'LabelModelVersion': '2.0', 'ResponseMetadata': {'RequestId': '08814a73-6f75-42a9-9905-0b754931dbed', 'HTTPStatusCode': 200, 'HTTPHeaders': {'content-type': 'application/x-amz-json-1.1', 'date': 'Wed, 22 Jan 2020 01:42:29 GMT', 'x-amzn-requestid': '08814a73-6f75-42a9-9905-0b754931dbed', 'content-length': '1564', 'connection': 'keep-alive'}, 'RetryAttempts': 0}}\n",
    "print(res_boars)"
   ]
  },
  {
   "cell_type": "code",
   "execution_count": 5,
   "metadata": {
    "scrolled": true
   },
   "outputs": [
    {
     "data": {
      "text/plain": [
       "0.33609721064567566"
      ]
     },
     "execution_count": 5,
     "metadata": {},
     "output_type": "execute_result"
    }
   ],
   "source": [
    "res_street['Labels'][6] # bus Label 선택\n",
    "res_street['Labels'][6]['Instances'][0]['BoundingBox']['Left'] # bus'의 첫번째[0] Instance의 Left 좌표"
   ]
  },
  {
   "cell_type": "code",
   "execution_count": 37,
   "metadata": {},
   "outputs": [
    {
     "name": "stdout",
     "output_type": "stream",
     "text": [
      "<class 'numpy.ndarray'>\n",
      "600 400\n"
     ]
    }
   ],
   "source": [
    "img = cv2.imread(\"boars.jpg\")\n",
    "\n",
    "img_width = img.shape[1] # 가로 해상도\n",
    "img_height = img.shape[0] # 세로 해상도\n",
    "\n",
    "\n",
    "print(type(img))\n",
    "print(img.shape[1], img.shape[0])"
   ]
  },
  {
   "cell_type": "code",
   "execution_count": 38,
   "metadata": {},
   "outputs": [
    {
     "name": "stdout",
     "output_type": "stream",
     "text": [
      "340 13 211 323\n",
      "82 171 134 78\n",
      "235 184 64 67\n",
      "300 198 42 32\n"
     ]
    }
   ],
   "source": [
    "cv2.imshow(\"before\",img) # 원본이미지\n",
    "cv2.waitKey(0)\n",
    "cv2.destroyAllWindows()\n",
    "            \n",
    "obj_list = ['Bus', 'Person', 'Pig', 'Hog', 'Boar','Bear', 'Elephant']\n",
    "\n",
    "AnalysisResponse(res_boars, obj_list)"
   ]
  },
  {
   "cell_type": "code",
   "execution_count": null,
   "metadata": {},
   "outputs": [],
   "source": []
  }
 ],
 "metadata": {
  "kernelspec": {
   "display_name": "Python 3",
   "language": "python",
   "name": "python3"
  },
  "language_info": {
   "codemirror_mode": {
    "name": "ipython",
    "version": 3
   },
   "file_extension": ".py",
   "mimetype": "text/x-python",
   "name": "python",
   "nbconvert_exporter": "python",
   "pygments_lexer": "ipython3",
   "version": "3.7.4"
  }
 },
 "nbformat": 4,
 "nbformat_minor": 2
}
